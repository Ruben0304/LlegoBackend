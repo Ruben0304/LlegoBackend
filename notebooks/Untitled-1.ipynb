{
 "cells": [
  {
   "cell_type": "markdown",
   "metadata": {},
   "source": [
    "# Conexión a MongoDB - Llego Backend"
   ]
  },
  {
   "cell_type": "code",
   "execution_count": 1,
   "metadata": {},
   "outputs": [],
   "source": [
    "# Importar librerías necesarias\n",
    "from motor.motor_asyncio import AsyncIOMotorClient\n",
    "import asyncio\n",
    "from dotenv import load_dotenv\n",
    "import os"
   ]
  },
  {
   "cell_type": "code",
   "execution_count": 2,
   "metadata": {},
   "outputs": [
    {
     "name": "stdout",
     "output_type": "stream",
     "text": [
      "Database: llego\n"
     ]
    }
   ],
   "source": [
    "# Cargar variables de entorno desde .env\n",
    "load_dotenv()\n",
    "\n",
    "MONGODB_URL = os.getenv('MONGODB_URL')\n",
    "MONGODB_DATABASE = os.getenv('MONGODB_DATABASE')\n",
    "\n",
    "print(f\"Database: {MONGODB_DATABASE}\")"
   ]
  },
  {
   "cell_type": "code",
   "execution_count": 3,
   "metadata": {},
   "outputs": [
    {
     "name": "stdout",
     "output_type": "stream",
     "text": [
      "Conectado a la base de datos: llego\n"
     ]
    }
   ],
   "source": [
    "# Crear cliente de MongoDB\n",
    "client = AsyncIOMotorClient(MONGODB_URL)\n",
    "db = client[MONGODB_DATABASE]\n",
    "\n",
    "print(f\"Conectado a la base de datos: {MONGODB_DATABASE}\")"
   ]
  },
  {
   "cell_type": "code",
   "execution_count": null,
   "metadata": {},
   "outputs": [],
   "source": [
    "# Cerrar conexión\n",
    "client.close()\n",
    "print(\"Conexión cerrada\")"
   ]
  },
  {
   "cell_type": "markdown",
   "metadata": {},
   "source": [
    "## Insertar Categorías en MongoDB"
   ]
  },
  {
   "cell_type": "code",
   "execution_count": 4,
   "metadata": {},
   "outputs": [
    {
     "name": "stdout",
     "output_type": "stream",
     "text": [
      "Categorías preparadas para insertar:\n",
      "\n",
      "- Comida\n",
      "  URL: https://bucket-production-435ad.up.railway.app/category/comida.png\n",
      "  Subcategorías: 3\n",
      "\n",
      "- Tienda\n",
      "  URL: https://bucket-production-435ad.up.railway.app/category/tienda.png\n",
      "  Subcategorías: 3\n"
     ]
    }
   ],
   "source": [
    "# Definir estructura de categorías y subcategorías\n",
    "from datetime import datetime\n",
    "\n",
    "BASE_URL = \"https://bucket-production-435ad.up.railway.app\"\n",
    "\n",
    "# Estructura de datos\n",
    "categories_data = [\n",
    "    {\n",
    "        \"name\": \"Comida\",\n",
    "        \"slug\": \"comida\",\n",
    "        \"subcategories\": [\n",
    "            {\"name\": \"Italiana\", \"slug\": \"italiana\"},\n",
    "            {\"name\": \"Platos Fuertes\", \"slug\": \"platos_fuertes\"},\n",
    "            {\"name\": \"Vegetariana\", \"slug\": \"vegetariana\"}\n",
    "        ]\n",
    "    },\n",
    "    {\n",
    "        \"name\": \"Tienda\",\n",
    "        \"slug\": \"tienda\",\n",
    "        \"subcategories\": [\n",
    "            {\"name\": \"Batidos y Cócteles\", \"slug\": \"batidos_y_cocteles\"},\n",
    "            {\"name\": \"Bebidas Enlatadas\", \"slug\": \"bebidas_enlatadas\"},\n",
    "            {\"name\": \"Botellas\", \"slug\": \"botellas\"}\n",
    "        ]\n",
    "    }\n",
    "]\n",
    "\n",
    "# Construir documentos con URLs\n",
    "categories_to_insert = []\n",
    "for category in categories_data:\n",
    "    subcategories = []\n",
    "    for subcat in category[\"subcategories\"]:\n",
    "        subcategories.append({\n",
    "            \"name\": subcat[\"name\"],\n",
    "            \"imageUrl\": f\"{BASE_URL}/subcategory/{subcat['slug']}.png\"\n",
    "        })\n",
    "    \n",
    "    categories_to_insert.append({\n",
    "        \"name\": category[\"name\"],\n",
    "        \"imageUrl\": f\"{BASE_URL}/category/{category['slug']}.png\",\n",
    "        \"subcategories\": subcategories,\n",
    "        \"createdAt\": datetime.utcnow()\n",
    "    })\n",
    "\n",
    "print(\"Categorías preparadas para insertar:\")\n",
    "for cat in categories_to_insert:\n",
    "    print(f\"\\n- {cat['name']}\")\n",
    "    print(f\"  URL: {cat['imageUrl']}\")\n",
    "    print(f\"  Subcategorías: {len(cat['subcategories'])}\")"
   ]
  },
  {
   "cell_type": "code",
   "execution_count": 5,
   "metadata": {},
   "outputs": [
    {
     "name": "stdout",
     "output_type": "stream",
     "text": [
      "\n",
      "✅ 2 categorías insertadas exitosamente!\n",
      "IDs insertados: ['68e3c8606db8c4398fb9a922', '68e3c8606db8c4398fb9a923']\n"
     ]
    }
   ],
   "source": [
    "# Insertar categorías en MongoDB\n",
    "async def insert_categories():\n",
    "    # Limpiar colección existente (opcional)\n",
    "    await db.categories.delete_many({})\n",
    "    \n",
    "    # Insertar categorías\n",
    "    result = await db.categories.insert_many(categories_to_insert)\n",
    "    \n",
    "    print(f\"\\n✅ {len(result.inserted_ids)} categorías insertadas exitosamente!\")\n",
    "    print(f\"IDs insertados: {[str(id) for id in result.inserted_ids]}\")\n",
    "    \n",
    "    return result.inserted_ids\n",
    "\n",
    "# Ejecutar inserción\n",
    "inserted_ids = await insert_categories()"
   ]
  },
  {
   "cell_type": "code",
   "execution_count": 6,
   "metadata": {},
   "outputs": [
    {
     "name": "stdout",
     "output_type": "stream",
     "text": [
      "\n",
      "📊 Total de categorías en BD: 2\n",
      "\n",
      "ID: 68e3c8606db8c4398fb9a922\n",
      "Nombre: Comida\n",
      "Imagen: https://bucket-production-435ad.up.railway.app/category/comida.png\n",
      "Subcategorías (3):\n",
      "  - Italiana: https://bucket-production-435ad.up.railway.app/subcategory/italiana.png\n",
      "  - Platos Fuertes: https://bucket-production-435ad.up.railway.app/subcategory/platos_fuertes.png\n",
      "  - Vegetariana: https://bucket-production-435ad.up.railway.app/subcategory/vegetariana.png\n",
      "\n",
      "ID: 68e3c8606db8c4398fb9a923\n",
      "Nombre: Tienda\n",
      "Imagen: https://bucket-production-435ad.up.railway.app/category/tienda.png\n",
      "Subcategorías (3):\n",
      "  - Batidos y Cócteles: https://bucket-production-435ad.up.railway.app/subcategory/batidos_y_cocteles.png\n",
      "  - Bebidas Enlatadas: https://bucket-production-435ad.up.railway.app/subcategory/bebidas_enlatadas.png\n",
      "  - Botellas: https://bucket-production-435ad.up.railway.app/subcategory/botellas.png\n",
      "\n"
     ]
    }
   ],
   "source": [
    "# Verificar datos insertados\n",
    "async def verify_categories():\n",
    "    categories = await db.categories.find().to_list(length=None)\n",
    "    \n",
    "    print(f\"\\n📊 Total de categorías en BD: {len(categories)}\\n\")\n",
    "    \n",
    "    for cat in categories:\n",
    "        print(f\"ID: {cat['_id']}\")\n",
    "        print(f\"Nombre: {cat['name']}\")\n",
    "        print(f\"Imagen: {cat['imageUrl']}\")\n",
    "        print(f\"Subcategorías ({len(cat['subcategories'])}):\")\n",
    "        for subcat in cat['subcategories']:\n",
    "            print(f\"  - {subcat['name']}: {subcat['imageUrl']}\")\n",
    "        print()\n",
    "\n",
    "# Verificar\n",
    "await verify_categories()"
   ]
  }
 ],
 "metadata": {
  "kernelspec": {
   "display_name": ".venv",
   "language": "python",
   "name": "python3"
  },
  "language_info": {
   "codemirror_mode": {
    "name": "ipython",
    "version": 3
   },
   "file_extension": ".py",
   "mimetype": "text/x-python",
   "name": "python",
   "nbconvert_exporter": "python",
   "pygments_lexer": "ipython3",
   "version": "3.9.6"
  }
 },
 "nbformat": 4,
 "nbformat_minor": 4
}
